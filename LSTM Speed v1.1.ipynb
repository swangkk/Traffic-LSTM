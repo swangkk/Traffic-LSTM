{
 "cells": [
  {
   "cell_type": "code",
   "execution_count": 1,
   "metadata": {},
   "outputs": [
    {
     "name": "stderr",
     "output_type": "stream",
     "text": [
      "Using TensorFlow backend.\n"
     ]
    }
   ],
   "source": [
    "import pandas as pd\n",
    "import numpy as np\n",
    "import matplotlib.pyplot as plt\n",
    "\n",
    "from keras.models import Sequential\n",
    "from keras.layers import LSTM, Dense, Activation, BatchNormalization\n",
    "from keras.callbacks import TensorBoard\n",
    "\n",
    "from sklearn.model_selection import train_test_split"
   ]
  },
  {
   "cell_type": "code",
   "execution_count": 2,
   "metadata": {},
   "outputs": [],
   "source": [
    "lag = 10"
   ]
  },
  {
   "cell_type": "code",
   "execution_count": 3,
   "metadata": {},
   "outputs": [],
   "source": [
    "def Sigmoid(x):\n",
    "    return (1.0 / (1.0 + np.exp(-x)))"
   ]
  },
  {
   "cell_type": "code",
   "execution_count": 74,
   "metadata": {},
   "outputs": [
    {
     "name": "stdout",
     "output_type": "stream",
     "text": [
      "(722789, 9)\n"
     ]
    },
    {
     "data": {
      "text/html": [
       "<div>\n",
       "<style scoped>\n",
       "    .dataframe tbody tr th:only-of-type {\n",
       "        vertical-align: middle;\n",
       "    }\n",
       "\n",
       "    .dataframe tbody tr th {\n",
       "        vertical-align: top;\n",
       "    }\n",
       "\n",
       "    .dataframe thead th {\n",
       "        text-align: right;\n",
       "    }\n",
       "</style>\n",
       "<table border=\"1\" class=\"dataframe\">\n",
       "  <thead>\n",
       "    <tr style=\"text-align: right;\">\n",
       "      <th></th>\n",
       "      <th>time</th>\n",
       "      <th>M</th>\n",
       "      <th>D</th>\n",
       "      <th>H</th>\n",
       "      <th>min</th>\n",
       "      <th>sec</th>\n",
       "      <th>sec2</th>\n",
       "      <th>speed</th>\n",
       "      <th>Headway</th>\n",
       "    </tr>\n",
       "  </thead>\n",
       "  <tbody>\n",
       "    <tr>\n",
       "      <th>0</th>\n",
       "      <td>2.019010e+16</td>\n",
       "      <td>1</td>\n",
       "      <td>1</td>\n",
       "      <td>0</td>\n",
       "      <td>0</td>\n",
       "      <td>20</td>\n",
       "      <td>0.8</td>\n",
       "      <td>101.74</td>\n",
       "      <td>30.0</td>\n",
       "    </tr>\n",
       "    <tr>\n",
       "      <th>1</th>\n",
       "      <td>2.019010e+16</td>\n",
       "      <td>1</td>\n",
       "      <td>1</td>\n",
       "      <td>0</td>\n",
       "      <td>0</td>\n",
       "      <td>25</td>\n",
       "      <td>0.7</td>\n",
       "      <td>106.23</td>\n",
       "      <td>4.9</td>\n",
       "    </tr>\n",
       "    <tr>\n",
       "      <th>2</th>\n",
       "      <td>2.019010e+16</td>\n",
       "      <td>1</td>\n",
       "      <td>1</td>\n",
       "      <td>0</td>\n",
       "      <td>1</td>\n",
       "      <td>0</td>\n",
       "      <td>0.1</td>\n",
       "      <td>89.17</td>\n",
       "      <td>34.4</td>\n",
       "    </tr>\n",
       "    <tr>\n",
       "      <th>3</th>\n",
       "      <td>2.019010e+16</td>\n",
       "      <td>1</td>\n",
       "      <td>1</td>\n",
       "      <td>0</td>\n",
       "      <td>2</td>\n",
       "      <td>18</td>\n",
       "      <td>0.5</td>\n",
       "      <td>111.07</td>\n",
       "      <td>78.4</td>\n",
       "    </tr>\n",
       "    <tr>\n",
       "      <th>4</th>\n",
       "      <td>2.019010e+16</td>\n",
       "      <td>1</td>\n",
       "      <td>1</td>\n",
       "      <td>0</td>\n",
       "      <td>2</td>\n",
       "      <td>36</td>\n",
       "      <td>0.9</td>\n",
       "      <td>102.55</td>\n",
       "      <td>18.4</td>\n",
       "    </tr>\n",
       "    <tr>\n",
       "      <th>5</th>\n",
       "      <td>2.019010e+16</td>\n",
       "      <td>1</td>\n",
       "      <td>1</td>\n",
       "      <td>0</td>\n",
       "      <td>3</td>\n",
       "      <td>6</td>\n",
       "      <td>0.9</td>\n",
       "      <td>82.00</td>\n",
       "      <td>30.0</td>\n",
       "    </tr>\n",
       "    <tr>\n",
       "      <th>6</th>\n",
       "      <td>2.019010e+16</td>\n",
       "      <td>1</td>\n",
       "      <td>1</td>\n",
       "      <td>0</td>\n",
       "      <td>3</td>\n",
       "      <td>26</td>\n",
       "      <td>0.9</td>\n",
       "      <td>102.89</td>\n",
       "      <td>20.0</td>\n",
       "    </tr>\n",
       "    <tr>\n",
       "      <th>7</th>\n",
       "      <td>2.019010e+16</td>\n",
       "      <td>1</td>\n",
       "      <td>1</td>\n",
       "      <td>0</td>\n",
       "      <td>5</td>\n",
       "      <td>3</td>\n",
       "      <td>0.2</td>\n",
       "      <td>104.68</td>\n",
       "      <td>96.3</td>\n",
       "    </tr>\n",
       "    <tr>\n",
       "      <th>8</th>\n",
       "      <td>2.019010e+16</td>\n",
       "      <td>1</td>\n",
       "      <td>1</td>\n",
       "      <td>0</td>\n",
       "      <td>5</td>\n",
       "      <td>19</td>\n",
       "      <td>0.7</td>\n",
       "      <td>82.70</td>\n",
       "      <td>16.5</td>\n",
       "    </tr>\n",
       "    <tr>\n",
       "      <th>9</th>\n",
       "      <td>2.019010e+16</td>\n",
       "      <td>1</td>\n",
       "      <td>1</td>\n",
       "      <td>0</td>\n",
       "      <td>5</td>\n",
       "      <td>54</td>\n",
       "      <td>0.8</td>\n",
       "      <td>101.96</td>\n",
       "      <td>35.1</td>\n",
       "    </tr>\n",
       "  </tbody>\n",
       "</table>\n",
       "</div>"
      ],
      "text/plain": [
       "           time  M  D  H  min  sec  sec2   speed  Headway\n",
       "0  2.019010e+16  1  1  0    0   20   0.8  101.74     30.0\n",
       "1  2.019010e+16  1  1  0    0   25   0.7  106.23      4.9\n",
       "2  2.019010e+16  1  1  0    1    0   0.1   89.17     34.4\n",
       "3  2.019010e+16  1  1  0    2   18   0.5  111.07     78.4\n",
       "4  2.019010e+16  1  1  0    2   36   0.9  102.55     18.4\n",
       "5  2.019010e+16  1  1  0    3    6   0.9   82.00     30.0\n",
       "6  2.019010e+16  1  1  0    3   26   0.9  102.89     20.0\n",
       "7  2.019010e+16  1  1  0    5    3   0.2  104.68     96.3\n",
       "8  2.019010e+16  1  1  0    5   19   0.7   82.70     16.5\n",
       "9  2.019010e+16  1  1  0    5   54   0.8  101.96     35.1"
      ]
     },
     "execution_count": 74,
     "metadata": {},
     "output_type": "execute_result"
    }
   ],
   "source": [
    "data = pd.read_csv('traffic speed.csv')\n",
    "print(data.shape)\n",
    "data.head(10)"
   ]
  },
  {
   "cell_type": "code",
   "execution_count": 75,
   "metadata": {},
   "outputs": [],
   "source": [
    "Month = data['M'].values.reshape(-1, 1)\n",
    "Day = data['D'].values.reshape(-1, 1)\n",
    "Hour = data['H'].values.reshape(-1, 1)\n",
    "Speed = data['speed'].values.reshape(-1, 1)\n",
    "Headway = data['Headway'].values.reshape(-1, 1)"
   ]
  },
  {
   "cell_type": "code",
   "execution_count": 76,
   "metadata": {},
   "outputs": [
    {
     "name": "stdout",
     "output_type": "stream",
     "text": [
      "(722789, 5)\n"
     ]
    },
    {
     "data": {
      "text/plain": [
       "array([[  1.  ,   1.  ,   0.  ,  30.  , 101.74],\n",
       "       [  1.  ,   1.  ,   0.  ,   4.9 , 106.23],\n",
       "       [  1.  ,   1.  ,   0.  ,  34.4 ,  89.17],\n",
       "       ...,\n",
       "       [  2.  ,  28.  ,  23.  ,  38.9 ,  89.87],\n",
       "       [  2.  ,  28.  ,  23.  ,  24.9 , 114.23],\n",
       "       [  2.  ,  28.  ,  23.  ,   8.4 , 114.66]])"
      ]
     },
     "execution_count": 76,
     "metadata": {},
     "output_type": "execute_result"
    }
   ],
   "source": [
    "arr = np.concatenate((Month, Day, Hour, Headway, Speed), axis=1)\n",
    "print(arr.shape)\n",
    "arr"
   ]
  },
  {
   "cell_type": "code",
   "execution_count": 77,
   "metadata": {},
   "outputs": [],
   "source": [
    "#arr = np.array(data)\n",
    "#print(arr.shape)"
   ]
  },
  {
   "cell_type": "code",
   "execution_count": 78,
   "metadata": {},
   "outputs": [
    {
     "name": "stdout",
     "output_type": "stream",
     "text": [
      "(700000, 5)\n",
      "(22788, 5)\n"
     ]
    }
   ],
   "source": [
    "train = arr[:700000,:]\n",
    "test = arr[700001:,:]\n",
    "print(train.shape)\n",
    "print(test.shape)"
   ]
  },
  {
   "cell_type": "code",
   "execution_count": 79,
   "metadata": {},
   "outputs": [
    {
     "name": "stdout",
     "output_type": "stream",
     "text": [
      "(9, 699990, 5)\n"
     ]
    }
   ],
   "source": [
    "#train 데이터를 3D(9겹) array로 만들기\n",
    "train_arr = []\n",
    "for i in range(9):\n",
    "    train_arr.append(train[i:i-lag,:])\n",
    "\n",
    "train_arr = np.array(train_arr, dtype=np.single)\n",
    "print(train_arr.shape)"
   ]
  },
  {
   "cell_type": "code",
   "execution_count": 80,
   "metadata": {},
   "outputs": [],
   "source": [
    "x_train_val = np.concatenate((train_arr[0], train_arr[1], train_arr[2], train_arr[3], train_arr[4], train_arr[5], train_arr[6], train_arr[7], train_arr[8]), axis=1).reshape(-1, 9, 5)\n",
    "#train_mean, train_std = np.mean(x_train_val, axis=0), np.std(x_train_val, axis=0)\n",
    "#train_mean, train_std = np.mean(train_mean, axis=0), np.mean(train_std, axis=0)"
   ]
  },
  {
   "cell_type": "code",
   "execution_count": 81,
   "metadata": {},
   "outputs": [],
   "source": [
    "#x_train_val = (x_train_val - train_mean) / (2 * train_std)\n",
    "#x_train_val = Sigmoid(x_train_val)"
   ]
  },
  {
   "cell_type": "code",
   "execution_count": 82,
   "metadata": {},
   "outputs": [
    {
     "data": {
      "text/plain": [
       "array([[[  1.  ,   1.  ,   0.  ,  30.  , 101.74],\n",
       "        [  1.  ,   1.  ,   0.  ,   4.9 , 106.23],\n",
       "        [  1.  ,   1.  ,   0.  ,  34.4 ,  89.17],\n",
       "        ...,\n",
       "        [  1.  ,   1.  ,   0.  ,  20.  , 102.89],\n",
       "        [  1.  ,   1.  ,   0.  ,  96.3 , 104.68],\n",
       "        [  1.  ,   1.  ,   0.  ,  16.5 ,  82.7 ]],\n",
       "\n",
       "       [[  1.  ,   1.  ,   0.  ,   4.9 , 106.23],\n",
       "        [  1.  ,   1.  ,   0.  ,  34.4 ,  89.17],\n",
       "        [  1.  ,   1.  ,   0.  ,  78.4 , 111.07],\n",
       "        ...,\n",
       "        [  1.  ,   1.  ,   0.  ,  96.3 , 104.68],\n",
       "        [  1.  ,   1.  ,   0.  ,  16.5 ,  82.7 ],\n",
       "        [  1.  ,   1.  ,   0.  ,  35.1 , 101.96]],\n",
       "\n",
       "       [[  1.  ,   1.  ,   0.  ,  34.4 ,  89.17],\n",
       "        [  1.  ,   1.  ,   0.  ,  78.4 , 111.07],\n",
       "        [  1.  ,   1.  ,   0.  ,  18.4 , 102.55],\n",
       "        ...,\n",
       "        [  1.  ,   1.  ,   0.  ,  16.5 ,  82.7 ],\n",
       "        [  1.  ,   1.  ,   0.  ,  35.1 , 101.96],\n",
       "        [  1.  ,   1.  ,   0.  ,  27.6 , 121.73]],\n",
       "\n",
       "       ...,\n",
       "\n",
       "       [[  2.  ,  27.  ,   9.  ,   1.4 ,  87.69],\n",
       "        [  2.  ,  27.  ,   9.  ,   5.9 ,  80.35],\n",
       "        [  2.  ,  27.  ,   9.  ,   1.6 ,  80.79],\n",
       "        ...,\n",
       "        [  2.  ,  27.  ,   9.  ,   1.9 ,  75.76],\n",
       "        [  2.  ,  27.  ,   9.  ,   0.8 ,  73.33],\n",
       "        [  2.  ,  27.  ,   9.  ,   1.9 ,  75.28]],\n",
       "\n",
       "       [[  2.  ,  27.  ,   9.  ,   5.9 ,  80.35],\n",
       "        [  2.  ,  27.  ,   9.  ,   1.6 ,  80.79],\n",
       "        [  2.  ,  27.  ,   9.  ,   1.6 ,  80.14],\n",
       "        ...,\n",
       "        [  2.  ,  27.  ,   9.  ,   0.8 ,  73.33],\n",
       "        [  2.  ,  27.  ,   9.  ,   1.9 ,  75.28],\n",
       "        [  2.  ,  27.  ,   9.  ,   0.6 ,  76.01]],\n",
       "\n",
       "       [[  2.  ,  27.  ,   9.  ,   1.6 ,  80.79],\n",
       "        [  2.  ,  27.  ,   9.  ,   1.6 ,  80.14],\n",
       "        [  2.  ,  27.  ,   9.  ,   1.1 ,  76.54],\n",
       "        ...,\n",
       "        [  2.  ,  27.  ,   9.  ,   1.9 ,  75.28],\n",
       "        [  2.  ,  27.  ,   9.  ,   0.6 ,  76.01],\n",
       "        [  2.  ,  27.  ,   9.  ,   1.9 ,  75.49]]], dtype=float32)"
      ]
     },
     "execution_count": 82,
     "metadata": {},
     "output_type": "execute_result"
    }
   ],
   "source": [
    "x_train_val"
   ]
  },
  {
   "cell_type": "code",
   "execution_count": 83,
   "metadata": {},
   "outputs": [
    {
     "name": "stdout",
     "output_type": "stream",
     "text": [
      "(699990, 9, 5) (699990, 1)\n"
     ]
    },
    {
     "data": {
      "text/plain": [
       "array([[121.73],\n",
       "       [ 97.57],\n",
       "       [ 99.21],\n",
       "       ...,\n",
       "       [ 75.49],\n",
       "       [ 71.66],\n",
       "       [ 71.39]])"
      ]
     },
     "execution_count": 83,
     "metadata": {},
     "output_type": "execute_result"
    }
   ],
   "source": [
    "y_train_val = train[lag:, 4:5]\n",
    "#y_train_val = (y_train_val - train_mean) / (2 * train_std)\n",
    "#y_train_val = Sigmoid(y_train_val)\n",
    "\n",
    "print(x_train_val.shape, y_train_val.shape)\n",
    "y_train_val"
   ]
  },
  {
   "cell_type": "code",
   "execution_count": 84,
   "metadata": {},
   "outputs": [
    {
     "name": "stdout",
     "output_type": "stream",
     "text": [
      "(559992, 9, 5) (559992, 1) (139998, 9, 5) (139998, 1)\n"
     ]
    }
   ],
   "source": [
    "x_train, x_val, y_train, y_val = train_test_split(x_train_val, y_train_val, test_size=0.2)\n",
    "print(x_train.shape, y_train.shape, x_val.shape, y_val.shape)"
   ]
  },
  {
   "cell_type": "code",
   "execution_count": 85,
   "metadata": {},
   "outputs": [
    {
     "name": "stdout",
     "output_type": "stream",
     "text": [
      "(9, 22778, 5)\n"
     ]
    }
   ],
   "source": [
    "test_arr = []\n",
    "for i in range(9):\n",
    "    test_arr.append(test[i:i-lag,:])\n",
    "\n",
    "test_arr = np.array(test_arr, dtype=np.float32)\n",
    "print(test_arr.shape)"
   ]
  },
  {
   "cell_type": "code",
   "execution_count": 86,
   "metadata": {},
   "outputs": [
    {
     "name": "stdout",
     "output_type": "stream",
     "text": [
      "(22778, 9, 5)\n"
     ]
    },
    {
     "data": {
      "text/plain": [
       "array([[[  2.  ,  27.  ,   9.  ,   2.8 ,  76.85],\n",
       "        [  2.  ,  27.  ,   9.  ,   3.  ,  80.36],\n",
       "        [  2.  ,  27.  ,   9.  ,   0.7 ,  80.38],\n",
       "        ...,\n",
       "        [  2.  ,  27.  ,   9.  ,   6.1 , 112.08],\n",
       "        [  2.  ,  27.  ,   9.  ,  10.8 ,  97.89],\n",
       "        [  2.  ,  27.  ,   9.  ,   3.7 ,  83.56]],\n",
       "\n",
       "       [[  2.  ,  27.  ,   9.  ,   3.  ,  80.36],\n",
       "        [  2.  ,  27.  ,   9.  ,   0.7 ,  80.38],\n",
       "        [  2.  ,  27.  ,   9.  ,   3.3 ,  83.05],\n",
       "        ...,\n",
       "        [  2.  ,  27.  ,   9.  ,  10.8 ,  97.89],\n",
       "        [  2.  ,  27.  ,   9.  ,   3.7 ,  83.56],\n",
       "        [  2.  ,  27.  ,   9.  ,   5.1 , 105.34]],\n",
       "\n",
       "       [[  2.  ,  27.  ,   9.  ,   0.7 ,  80.38],\n",
       "        [  2.  ,  27.  ,   9.  ,   3.3 ,  83.05],\n",
       "        [  2.  ,  27.  ,   9.  ,   4.8 ,  90.82],\n",
       "        ...,\n",
       "        [  2.  ,  27.  ,   9.  ,   3.7 ,  83.56],\n",
       "        [  2.  ,  27.  ,   9.  ,   5.1 , 105.34],\n",
       "        [  2.  ,  27.  ,   9.  ,   1.3 , 104.29]],\n",
       "\n",
       "       ...,\n",
       "\n",
       "       [[  2.  ,  28.  ,  23.  ,   6.  ,  99.28],\n",
       "        [  2.  ,  28.  ,  23.  ,  21.6 , 128.67],\n",
       "        [  2.  ,  28.  ,  23.  ,   2.1 , 123.11],\n",
       "        ...,\n",
       "        [  2.  ,  28.  ,  23.  ,  95.1 ,  95.21],\n",
       "        [  2.  ,  28.  ,  23.  ,  28.3 ,  98.63],\n",
       "        [  2.  ,  28.  ,  23.  ,  15.2 ,  88.73]],\n",
       "\n",
       "       [[  2.  ,  28.  ,  23.  ,  21.6 , 128.67],\n",
       "        [  2.  ,  28.  ,  23.  ,   2.1 , 123.11],\n",
       "        [  2.  ,  28.  ,  23.  , 109.7 , 103.38],\n",
       "        ...,\n",
       "        [  2.  ,  28.  ,  23.  ,  28.3 ,  98.63],\n",
       "        [  2.  ,  28.  ,  23.  ,  15.2 ,  88.73],\n",
       "        [  2.  ,  28.  ,  23.  ,   3.9 ,  94.11]],\n",
       "\n",
       "       [[  2.  ,  28.  ,  23.  ,   2.1 , 123.11],\n",
       "        [  2.  ,  28.  ,  23.  , 109.7 , 103.38],\n",
       "        [  2.  ,  28.  ,  23.  ,  18.  ,  93.89],\n",
       "        ...,\n",
       "        [  2.  ,  28.  ,  23.  ,  15.2 ,  88.73],\n",
       "        [  2.  ,  28.  ,  23.  ,   3.9 ,  94.11],\n",
       "        [  2.  ,  28.  ,  23.  ,  38.9 ,  89.87]]], dtype=float32)"
      ]
     },
     "execution_count": 86,
     "metadata": {},
     "output_type": "execute_result"
    }
   ],
   "source": [
    "x_test = np.concatenate((test_arr[0], test_arr[1], test_arr[2], test_arr[3], test_arr[4], test_arr[5], test_arr[6], test_arr[7], test_arr[8]), axis=1).reshape(-1, 9, 5)\n",
    "print(x_test.shape)\n",
    "x_test"
   ]
  },
  {
   "cell_type": "code",
   "execution_count": 87,
   "metadata": {},
   "outputs": [
    {
     "name": "stdout",
     "output_type": "stream",
     "text": [
      "(22778, 1)\n"
     ]
    },
    {
     "data": {
      "text/plain": [
       "array([[104.29],\n",
       "       [ 92.23],\n",
       "       [ 85.97],\n",
       "       ...,\n",
       "       [ 89.87],\n",
       "       [114.23],\n",
       "       [114.66]])"
      ]
     },
     "execution_count": 87,
     "metadata": {},
     "output_type": "execute_result"
    }
   ],
   "source": [
    "y_test = test[lag:, 4:5]\n",
    "print(y_test.shape)\n",
    "y_test"
   ]
  },
  {
   "cell_type": "code",
   "execution_count": 130,
   "metadata": {},
   "outputs": [],
   "source": [
    "h_units = 64\n",
    "\n",
    "\n",
    "def rnn_model():\n",
    "    model = Sequential()\n",
    "    \n",
    "    model.add(LSTM(units=h_units, return_sequences=True, activation='relu', input_shape=(9, 5)))   \n",
    "    model.add(LSTM(units=h_units, return_sequences=True, activation='softmax'))\n",
    "    model.add(LSTM(units=h_units, return_sequences=False, activation='relu'))\n",
    "    model.add(Dense(64, activation='relu'))\n",
    "    model.add(Dense(1))\n",
    "    \n",
    "    return model"
   ]
  },
  {
   "cell_type": "code",
   "execution_count": 131,
   "metadata": {},
   "outputs": [
    {
     "name": "stdout",
     "output_type": "stream",
     "text": [
      "_________________________________________________________________\n",
      "Layer (type)                 Output Shape              Param #   \n",
      "=================================================================\n",
      "lstm_19 (LSTM)               (None, 9, 64)             17920     \n",
      "_________________________________________________________________\n",
      "lstm_20 (LSTM)               (None, 9, 64)             33024     \n",
      "_________________________________________________________________\n",
      "lstm_21 (LSTM)               (None, 64)                33024     \n",
      "_________________________________________________________________\n",
      "dense_19 (Dense)             (None, 64)                4160      \n",
      "_________________________________________________________________\n",
      "dense_20 (Dense)             (None, 1)                 65        \n",
      "=================================================================\n",
      "Total params: 88,193\n",
      "Trainable params: 88,193\n",
      "Non-trainable params: 0\n",
      "_________________________________________________________________\n"
     ]
    }
   ],
   "source": [
    "# create a model \n",
    "model = rnn_model()\n",
    "model.summary()"
   ]
  },
  {
   "cell_type": "code",
   "execution_count": 132,
   "metadata": {},
   "outputs": [],
   "source": [
    "model.compile(loss='MSE', optimizer='adam', metrics=['accuracy'])"
   ]
  },
  {
   "cell_type": "code",
   "execution_count": 133,
   "metadata": {},
   "outputs": [
    {
     "name": "stdout",
     "output_type": "stream",
     "text": [
      "Train on 559992 samples, validate on 139998 samples\n",
      "Epoch 1/10\n",
      "559992/559992 [==============================] - 34s 60us/step - loss: 805.0033 - acc: 3.7322e-04 - val_loss: 108.2306 - val_acc: 5.4286e-04\n",
      "Epoch 2/10\n",
      "559992/559992 [==============================] - 30s 54us/step - loss: 106.0128 - acc: 4.2322e-04 - val_loss: 105.2299 - val_acc: 4.2858e-04\n",
      "Epoch 3/10\n",
      "559992/559992 [==============================] - 31s 55us/step - loss: 104.2259 - acc: 4.9286e-04 - val_loss: 102.0097 - val_acc: 5.0001e-04\n",
      "Epoch 4/10\n",
      "559992/559992 [==============================] - 30s 54us/step - loss: 104.1379 - acc: 4.5536e-04 - val_loss: 103.7104 - val_acc: 5.5715e-04\n",
      "Epoch 5/10\n",
      "559992/559992 [==============================] - 31s 55us/step - loss: 102.9546 - acc: 4.8572e-04 - val_loss: 104.8558 - val_acc: 5.1429e-04\n",
      "Epoch 6/10\n",
      "559992/559992 [==============================] - 31s 55us/step - loss: 103.1844 - acc: 4.4643e-04 - val_loss: 101.0219 - val_acc: 4.5715e-04\n",
      "Epoch 7/10\n",
      "559992/559992 [==============================] - 31s 55us/step - loss: 102.9345 - acc: 4.6608e-04 - val_loss: 100.9817 - val_acc: 5.1429e-04\n",
      "Epoch 8/10\n",
      "559992/559992 [==============================] - 31s 55us/step - loss: 103.0429 - acc: 4.3036e-04 - val_loss: 101.1520 - val_acc: 5.3572e-04\n",
      "Epoch 9/10\n",
      "559992/559992 [==============================] - 30s 54us/step - loss: 103.1311 - acc: 4.2858e-04 - val_loss: 104.3953 - val_acc: 4.3572e-04\n",
      "Epoch 10/10\n",
      "559992/559992 [==============================] - 31s 55us/step - loss: 103.4442 - acc: 4.3929e-04 - val_loss: 101.2089 - val_acc: 4.9286e-04\n"
     ]
    }
   ],
   "source": [
    "# training\n",
    "tensorBoard = TensorBoard(log_dir='./logs', histogram_freq=0, write_graph=True, write_images=False)\n",
    "\n",
    "#hist = model.fit(x_train, y_train, epochs=100, batch_size=2048, verbose=True, validation_data=(x_val, y_val), shuffle=True, callbacks=[tensorBoard])\n",
    "\n",
    "hist = model.fit(x_train, y_train,\n",
    "                 batch_size=1024,\n",
    "                 epochs=10,\n",
    "                 verbose=1, \n",
    "                 validation_data=(x_val, y_val))\n",
    "#hist = model.fit(x_train, y_train, epochs=100, batch_size=2048, verbose=True, validation_data=(x_val, y_val), shuffle=True)"
   ]
  },
  {
   "cell_type": "code",
   "execution_count": 134,
   "metadata": {},
   "outputs": [
    {
     "name": "stdout",
     "output_type": "stream",
     "text": [
      "22778/22778 [==============================] - 1s 55us/step\n",
      "(22778, 1)\n",
      "22778/22778 [==============================] - 1s 24us/step\n",
      "[100.26417953487191, 0.0003951180964088155]\n"
     ]
    }
   ],
   "source": [
    "y_pred = model.predict(x_test, batch_size=1024, verbose=True) \n",
    "print(y_pred.shape)\n",
    "print(model.evaluate(x_test, y_test,batch_size=1024))"
   ]
  },
  {
   "cell_type": "code",
   "execution_count": 135,
   "metadata": {},
   "outputs": [
    {
     "data": {
      "text/plain": [
       "array([[ 90.78563],\n",
       "       [ 94.63409],\n",
       "       [ 95.55217],\n",
       "       ...,\n",
       "       [103.37804],\n",
       "       [102.20891],\n",
       "       [102.78496]], dtype=float32)"
      ]
     },
     "execution_count": 135,
     "metadata": {},
     "output_type": "execute_result"
    }
   ],
   "source": [
    "y_pred"
   ]
  },
  {
   "cell_type": "code",
   "execution_count": 136,
   "metadata": {},
   "outputs": [
    {
     "data": {
      "image/png": "[encoded data removed]",
      "text/plain": [
       "<Figure size 432x288 with 1 Axes>"
      ]
     },
     "metadata": {
      "needs_background": "light"
     },
     "output_type": "display_data"
    }
   ],
   "source": [
    "#loss graph 그리기\n",
    "\n",
    "%matplotlib inline\n",
    "import matplotlib.pyplot as plt\n",
    "\n",
    "fig, loss_ax = plt.subplots()\n",
    "\n",
    "loss_ax.plot(hist.history['loss'], 'b', label='train loss')\n",
    "loss_ax.plot(hist.history['val_loss'], 'r', label='test loss')\n",
    "\n",
    "loss_ax.set_xlabel('epoch')\n",
    "loss_ax.set_ylabel('loss')\n",
    "\n",
    "loss_ax.legend(loc='upper right')\n",
    "\n",
    "plt.show()"
   ]
  },
  {
   "cell_type": "code",
   "execution_count": 137,
   "metadata": {},
   "outputs": [
    {
     "data": {
      "image/png": "[encoded data removed]",
      "text/plain": [
       "<Figure size 1368x576 with 1 Axes>"
      ]
     },
     "metadata": {
      "needs_background": "light"
     },
     "output_type": "display_data"
    }
   ],
   "source": [
    "plt.figure(figsize=(19,8))\n",
    "\n",
    "# set font\n",
    "font = {'family': 'Arial', 'weight': 'normal', 'size': 16}\n",
    "plt.rc('font', **font)\n",
    "\n",
    "# plot data \n",
    "plt.plot(y_test[:,], 'r', label='y_true')\n",
    "plt.plot(y_pred[:,], 'b', label='y_pred')\n",
    "\n",
    "# set legend position\n",
    "plt.legend(shadow=True, loc='upper right')\n",
    "\n",
    "# set x-axis & y-axis titles\n",
    "#plt.title('prediction result')\n",
    "plt.xlabel('Time Index (2007)')\n",
    "plt.ylabel('Traffic Volume')\n",
    "\n",
    "# set axis-limits\n",
    "plt.xlim(left = 0, right = len(y_test)) \n",
    "plt.ylim(bottom = 0.3) \n",
    "\n",
    "# set grid\n",
    "plt.grid(color='gray', linestyle='--', linewidth=1)\n",
    "\n",
    "plt.xticks(np.arange(0,20000,4000))\n",
    "plt.yticks(np.arange(0.3,1.0,0.1))\n",
    "\n",
    "# save & display figure\n",
    "plt.show()\n"
   ]
  },
  {
   "cell_type": "code",
   "execution_count": null,
   "metadata": {},
   "outputs": [],
   "source": []
  }
 ],
 "metadata": {
  "kernelspec": {
   "display_name": "Python 3",
   "language": "python",
   "name": "python3"
  },
  "language_info": {
   "codemirror_mode": {
    "name": "ipython",
    "version": 3
   },
   "file_extension": ".py",
   "mimetype": "text/x-python",
   "name": "python",
   "nbconvert_exporter": "python",
   "pygments_lexer": "ipython3",
   "version": "3.7.3"
  }
 },
 "nbformat": 4,
 "nbformat_minor": 4
}
