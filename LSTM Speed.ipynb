{
 "cells": [
  {
   "cell_type": "code",
   "execution_count": 1,
   "metadata": {},
   "outputs": [
    {
     "name": "stderr",
     "output_type": "stream",
     "text": [
      "Using TensorFlow backend.\n"
     ]
    }
   ],
   "source": [
    "import pandas as pd\n",
    "import numpy as np\n",
    "import matplotlib.pyplot as plt\n",
    "\n",
    "from keras.models import Sequential\n",
    "from keras.layers import LSTM, Dense, Activation, BatchNormalization\n",
    "from keras.callbacks import TensorBoard\n",
    "\n",
    "from sklearn.model_selection import train_test_split"
   ]
  },
  {
   "cell_type": "code",
   "execution_count": 2,
   "metadata": {},
   "outputs": [],
   "source": [
    "lag = 10"
   ]
  },
  {
   "cell_type": "code",
   "execution_count": 3,
   "metadata": {},
   "outputs": [],
   "source": [
    "def Sigmoid(x):\n",
    "    return (1.0 / (1.0 + np.exp(-x)))"
   ]
  },
  {
   "cell_type": "code",
   "execution_count": 4,
   "metadata": {},
   "outputs": [
    {
     "name": "stdout",
     "output_type": "stream",
     "text": [
      "(722789, 9)\n"
     ]
    }
   ],
   "source": [
    "data = pd.read_csv('traffic speed.csv')\n",
    "print(data.shape)\n"
   ]
  },
  {
   "cell_type": "code",
   "execution_count": 5,
   "metadata": {},
   "outputs": [
    {
     "name": "stdout",
     "output_type": "stream",
     "text": [
      "(722789, 9)\n"
     ]
    }
   ],
   "source": [
    "arr = np.array(data)\n",
    "print(arr.shape)"
   ]
  },
  {
   "cell_type": "code",
   "execution_count": 6,
   "metadata": {},
   "outputs": [
    {
     "name": "stdout",
     "output_type": "stream",
     "text": [
      "(700000, 9)\n",
      "(22788, 9)\n"
     ]
    }
   ],
   "source": [
    "train = arr[:700000,0:9]\n",
    "test = arr[700001:,0:9]\n",
    "print(train.shape)\n",
    "print(test.shape)"
   ]
  },
  {
   "cell_type": "code",
   "execution_count": 7,
   "metadata": {},
   "outputs": [
    {
     "name": "stdout",
     "output_type": "stream",
     "text": [
      "(9, 699990, 9)\n"
     ]
    }
   ],
   "source": [
    "#train 데이터를 3D(9겹) array로 만들기\n",
    "train_arr = []\n",
    "for i in range(9):\n",
    "    train_arr.append(train[i:i-lag,:])\n",
    "\n",
    "train_arr = np.array(train_arr, dtype=np.float32)\n",
    "print(train_arr.shape)"
   ]
  },
  {
   "cell_type": "code",
   "execution_count": 8,
   "metadata": {},
   "outputs": [],
   "source": [
    "x_train_val = np.concatenate((train_arr[0], train_arr[1], train_arr[2], train_arr[3], train_arr[4], train_arr[5], train_arr[6], train_arr[7], train_arr[8]), axis=1).reshape(-1, 9, 9)\n",
    "#train_mean, train_std = np.mean(x_train_val, axis=0), np.std(x_train_val, axis=0)\n",
    "#train_mean, train_std = np.mean(train_mean, axis=0), np.mean(train_std, axis=0)"
   ]
  },
  {
   "cell_type": "code",
   "execution_count": 9,
   "metadata": {},
   "outputs": [],
   "source": [
    "#x_train_val = (x_train_val - train_mean) / (2 * train_std)\n",
    "#x_train_val = Sigmoid(x_train_val)"
   ]
  },
  {
   "cell_type": "code",
   "execution_count": 10,
   "metadata": {},
   "outputs": [
    {
     "data": {
      "text/plain": [
       "array([[[2.0190100e+16, 1.0000000e+00, 1.0000000e+00, ...,\n",
       "         8.0000001e-01, 1.0174000e+02,           nan],\n",
       "        [2.0190100e+16, 1.0000000e+00, 1.0000000e+00, ...,\n",
       "         6.9999999e-01, 1.0623000e+02, 4.9000001e+00],\n",
       "        [2.0190100e+16, 1.0000000e+00, 1.0000000e+00, ...,\n",
       "         1.0000000e-01, 8.9169998e+01, 3.4400002e+01],\n",
       "        ...,\n",
       "        [2.0190100e+16, 1.0000000e+00, 1.0000000e+00, ...,\n",
       "         8.9999998e-01, 1.0289000e+02, 2.0000000e+01],\n",
       "        [2.0190100e+16, 1.0000000e+00, 1.0000000e+00, ...,\n",
       "         2.0000000e-01, 1.0468000e+02, 9.6300003e+01],\n",
       "        [2.0190100e+16, 1.0000000e+00, 1.0000000e+00, ...,\n",
       "         6.9999999e-01, 8.2699997e+01, 1.6500000e+01]],\n",
       "\n",
       "       [[2.0190100e+16, 1.0000000e+00, 1.0000000e+00, ...,\n",
       "         6.9999999e-01, 1.0623000e+02, 4.9000001e+00],\n",
       "        [2.0190100e+16, 1.0000000e+00, 1.0000000e+00, ...,\n",
       "         1.0000000e-01, 8.9169998e+01, 3.4400002e+01],\n",
       "        [2.0190100e+16, 1.0000000e+00, 1.0000000e+00, ...,\n",
       "         5.0000000e-01, 1.1107000e+02, 7.8400002e+01],\n",
       "        ...,\n",
       "        [2.0190100e+16, 1.0000000e+00, 1.0000000e+00, ...,\n",
       "         2.0000000e-01, 1.0468000e+02, 9.6300003e+01],\n",
       "        [2.0190100e+16, 1.0000000e+00, 1.0000000e+00, ...,\n",
       "         6.9999999e-01, 8.2699997e+01, 1.6500000e+01],\n",
       "        [2.0190100e+16, 1.0000000e+00, 1.0000000e+00, ...,\n",
       "         8.0000001e-01, 1.0196000e+02, 3.5099998e+01]],\n",
       "\n",
       "       [[2.0190100e+16, 1.0000000e+00, 1.0000000e+00, ...,\n",
       "         1.0000000e-01, 8.9169998e+01, 3.4400002e+01],\n",
       "        [2.0190100e+16, 1.0000000e+00, 1.0000000e+00, ...,\n",
       "         5.0000000e-01, 1.1107000e+02, 7.8400002e+01],\n",
       "        [2.0190100e+16, 1.0000000e+00, 1.0000000e+00, ...,\n",
       "         8.9999998e-01, 1.0255000e+02, 1.8400000e+01],\n",
       "        ...,\n",
       "        [2.0190100e+16, 1.0000000e+00, 1.0000000e+00, ...,\n",
       "         6.9999999e-01, 8.2699997e+01, 1.6500000e+01],\n",
       "        [2.0190100e+16, 1.0000000e+00, 1.0000000e+00, ...,\n",
       "         8.0000001e-01, 1.0196000e+02, 3.5099998e+01],\n",
       "        [2.0190100e+16, 1.0000000e+00, 1.0000000e+00, ...,\n",
       "         4.0000001e-01, 1.2173000e+02, 2.7600000e+01]],\n",
       "\n",
       "       ...,\n",
       "\n",
       "       [[2.0190227e+16, 2.0000000e+00, 2.7000000e+01, ...,\n",
       "         1.0000000e-01, 8.7690002e+01, 1.4000000e+00],\n",
       "        [2.0190227e+16, 2.0000000e+00, 2.7000000e+01, ...,\n",
       "         0.0000000e+00, 8.0349998e+01, 5.9000001e+00],\n",
       "        [2.0190227e+16, 2.0000000e+00, 2.7000000e+01, ...,\n",
       "         6.0000002e-01, 8.0790001e+01, 1.6000000e+00],\n",
       "        ...,\n",
       "        [2.0190227e+16, 2.0000000e+00, 2.7000000e+01, ...,\n",
       "         2.0000000e-01, 7.5760002e+01, 1.9000000e+00],\n",
       "        [2.0190227e+16, 2.0000000e+00, 2.7000000e+01, ...,\n",
       "         0.0000000e+00, 7.3330002e+01, 8.0000001e-01],\n",
       "        [2.0190227e+16, 2.0000000e+00, 2.7000000e+01, ...,\n",
       "         8.9999998e-01, 7.5279999e+01, 1.9000000e+00]],\n",
       "\n",
       "       [[2.0190227e+16, 2.0000000e+00, 2.7000000e+01, ...,\n",
       "         0.0000000e+00, 8.0349998e+01, 5.9000001e+00],\n",
       "        [2.0190227e+16, 2.0000000e+00, 2.7000000e+01, ...,\n",
       "         6.0000002e-01, 8.0790001e+01, 1.6000000e+00],\n",
       "        [2.0190227e+16, 2.0000000e+00, 2.7000000e+01, ...,\n",
       "         2.0000000e-01, 8.0139999e+01, 1.6000000e+00],\n",
       "        ...,\n",
       "        [2.0190227e+16, 2.0000000e+00, 2.7000000e+01, ...,\n",
       "         0.0000000e+00, 7.3330002e+01, 8.0000001e-01],\n",
       "        [2.0190227e+16, 2.0000000e+00, 2.7000000e+01, ...,\n",
       "         8.9999998e-01, 7.5279999e+01, 1.9000000e+00],\n",
       "        [2.0190227e+16, 2.0000000e+00, 2.7000000e+01, ...,\n",
       "         5.0000000e-01, 7.6010002e+01, 6.0000002e-01]],\n",
       "\n",
       "       [[2.0190227e+16, 2.0000000e+00, 2.7000000e+01, ...,\n",
       "         6.0000002e-01, 8.0790001e+01, 1.6000000e+00],\n",
       "        [2.0190227e+16, 2.0000000e+00, 2.7000000e+01, ...,\n",
       "         2.0000000e-01, 8.0139999e+01, 1.6000000e+00],\n",
       "        [2.0190227e+16, 2.0000000e+00, 2.7000000e+01, ...,\n",
       "         3.0000001e-01, 7.6540001e+01, 1.1000000e+00],\n",
       "        ...,\n",
       "        [2.0190227e+16, 2.0000000e+00, 2.7000000e+01, ...,\n",
       "         8.9999998e-01, 7.5279999e+01, 1.9000000e+00],\n",
       "        [2.0190227e+16, 2.0000000e+00, 2.7000000e+01, ...,\n",
       "         5.0000000e-01, 7.6010002e+01, 6.0000002e-01],\n",
       "        [2.0190227e+16, 2.0000000e+00, 2.7000000e+01, ...,\n",
       "         4.0000001e-01, 7.5489998e+01, 1.9000000e+00]]], dtype=float32)"
      ]
     },
     "execution_count": 10,
     "metadata": {},
     "output_type": "execute_result"
    }
   ],
   "source": [
    "x_train_val"
   ]
  },
  {
   "cell_type": "code",
   "execution_count": 11,
   "metadata": {},
   "outputs": [
    {
     "name": "stdout",
     "output_type": "stream",
     "text": [
      "(699990, 9, 9) (699990, 1)\n"
     ]
    },
    {
     "data": {
      "text/plain": [
       "array([[121.73],\n",
       "       [ 97.57],\n",
       "       [ 99.21],\n",
       "       ...,\n",
       "       [ 75.49],\n",
       "       [ 71.66],\n",
       "       [ 71.39]])"
      ]
     },
     "execution_count": 11,
     "metadata": {},
     "output_type": "execute_result"
    }
   ],
   "source": [
    "y_train_val = train[lag:, 7:8]\n",
    "#y_train_val = (y_train_val - train_mean) / (2 * train_std)\n",
    "#y_train_val = Sigmoid(y_train_val)\n",
    "\n",
    "print(x_train_val.shape, y_train_val.shape)\n",
    "y_train_val"
   ]
  },
  {
   "cell_type": "code",
   "execution_count": 12,
   "metadata": {},
   "outputs": [
    {
     "name": "stdout",
     "output_type": "stream",
     "text": [
      "(559992, 9, 9) (559992, 1) (139998, 9, 9) (139998, 1)\n"
     ]
    }
   ],
   "source": [
    "x_train, x_val, y_train, y_val = train_test_split(x_train_val, y_train_val, test_size=0.2)\n",
    "print(x_train.shape, y_train.shape, x_val.shape, y_val.shape)"
   ]
  },
  {
   "cell_type": "code",
   "execution_count": 13,
   "metadata": {},
   "outputs": [
    {
     "name": "stdout",
     "output_type": "stream",
     "text": [
      "(9, 22778, 9)\n"
     ]
    }
   ],
   "source": [
    "test_arr = []\n",
    "for i in range(9):\n",
    "    test_arr.append(test[i:i-lag,:])\n",
    "\n",
    "test_arr = np.array(test_arr, dtype=np.float32)\n",
    "print(test_arr.shape)"
   ]
  },
  {
   "cell_type": "code",
   "execution_count": 14,
   "metadata": {},
   "outputs": [
    {
     "name": "stdout",
     "output_type": "stream",
     "text": [
      "(22778, 9, 9)\n"
     ]
    },
    {
     "data": {
      "text/plain": [
       "array([[[2.0190227e+16, 2.0000000e+00, 2.7000000e+01, ...,\n",
       "         8.9999998e-01, 7.6849998e+01, 2.8000000e+00],\n",
       "        [2.0190227e+16, 2.0000000e+00, 2.7000000e+01, ...,\n",
       "         8.9999998e-01, 8.0360001e+01, 3.0000000e+00],\n",
       "        [2.0190227e+16, 2.0000000e+00, 2.7000000e+01, ...,\n",
       "         6.0000002e-01, 8.0379997e+01, 6.9999999e-01],\n",
       "        ...,\n",
       "        [2.0190227e+16, 2.0000000e+00, 2.7000000e+01, ...,\n",
       "         6.0000002e-01, 1.1208000e+02, 6.0999999e+00],\n",
       "        [2.0190227e+16, 2.0000000e+00, 2.7000000e+01, ...,\n",
       "         4.0000001e-01, 9.7889999e+01, 1.0800000e+01],\n",
       "        [2.0190227e+16, 2.0000000e+00, 2.7000000e+01, ...,\n",
       "         1.0000000e-01, 8.3559998e+01, 3.7000000e+00]],\n",
       "\n",
       "       [[2.0190227e+16, 2.0000000e+00, 2.7000000e+01, ...,\n",
       "         8.9999998e-01, 8.0360001e+01, 3.0000000e+00],\n",
       "        [2.0190227e+16, 2.0000000e+00, 2.7000000e+01, ...,\n",
       "         6.0000002e-01, 8.0379997e+01, 6.9999999e-01],\n",
       "        [2.0190227e+16, 2.0000000e+00, 2.7000000e+01, ...,\n",
       "         8.9999998e-01, 8.3050003e+01, 3.3000000e+00],\n",
       "        ...,\n",
       "        [2.0190227e+16, 2.0000000e+00, 2.7000000e+01, ...,\n",
       "         4.0000001e-01, 9.7889999e+01, 1.0800000e+01],\n",
       "        [2.0190227e+16, 2.0000000e+00, 2.7000000e+01, ...,\n",
       "         1.0000000e-01, 8.3559998e+01, 3.7000000e+00],\n",
       "        [2.0190227e+16, 2.0000000e+00, 2.7000000e+01, ...,\n",
       "         2.0000000e-01, 1.0534000e+02, 5.0999999e+00]],\n",
       "\n",
       "       [[2.0190227e+16, 2.0000000e+00, 2.7000000e+01, ...,\n",
       "         6.0000002e-01, 8.0379997e+01, 6.9999999e-01],\n",
       "        [2.0190227e+16, 2.0000000e+00, 2.7000000e+01, ...,\n",
       "         8.9999998e-01, 8.3050003e+01, 3.3000000e+00],\n",
       "        [2.0190227e+16, 2.0000000e+00, 2.7000000e+01, ...,\n",
       "         6.9999999e-01, 9.0820000e+01, 4.8000002e+00],\n",
       "        ...,\n",
       "        [2.0190227e+16, 2.0000000e+00, 2.7000000e+01, ...,\n",
       "         1.0000000e-01, 8.3559998e+01, 3.7000000e+00],\n",
       "        [2.0190227e+16, 2.0000000e+00, 2.7000000e+01, ...,\n",
       "         2.0000000e-01, 1.0534000e+02, 5.0999999e+00],\n",
       "        [2.0190227e+16, 2.0000000e+00, 2.7000000e+01, ...,\n",
       "         5.0000000e-01, 1.0429000e+02, 1.3000000e+00]],\n",
       "\n",
       "       ...,\n",
       "\n",
       "       [[2.0190229e+16, 2.0000000e+00, 2.8000000e+01, ...,\n",
       "         2.0000000e-01, 9.9279999e+01, 6.0000000e+00],\n",
       "        [2.0190229e+16, 2.0000000e+00, 2.8000000e+01, ...,\n",
       "         8.0000001e-01, 1.2867000e+02, 2.1600000e+01],\n",
       "        [2.0190229e+16, 2.0000000e+00, 2.8000000e+01, ...,\n",
       "         8.9999998e-01, 1.2311000e+02, 2.0999999e+00],\n",
       "        ...,\n",
       "        [2.0190229e+16, 2.0000000e+00, 2.8000000e+01, ...,\n",
       "         1.0000000e-01, 9.5209999e+01, 9.5099998e+01],\n",
       "        [2.0190229e+16, 2.0000000e+00, 2.8000000e+01, ...,\n",
       "         4.0000001e-01, 9.8629997e+01, 2.8299999e+01],\n",
       "        [2.0190229e+16, 2.0000000e+00, 2.8000000e+01, ...,\n",
       "         6.0000002e-01, 8.8730003e+01, 1.5200000e+01]],\n",
       "\n",
       "       [[2.0190229e+16, 2.0000000e+00, 2.8000000e+01, ...,\n",
       "         8.0000001e-01, 1.2867000e+02, 2.1600000e+01],\n",
       "        [2.0190229e+16, 2.0000000e+00, 2.8000000e+01, ...,\n",
       "         8.9999998e-01, 1.2311000e+02, 2.0999999e+00],\n",
       "        [2.0190229e+16, 2.0000000e+00, 2.8000000e+01, ...,\n",
       "         6.0000002e-01, 1.0338000e+02, 1.0970000e+02],\n",
       "        ...,\n",
       "        [2.0190229e+16, 2.0000000e+00, 2.8000000e+01, ...,\n",
       "         4.0000001e-01, 9.8629997e+01, 2.8299999e+01],\n",
       "        [2.0190229e+16, 2.0000000e+00, 2.8000000e+01, ...,\n",
       "         6.0000002e-01, 8.8730003e+01, 1.5200000e+01],\n",
       "        [2.0190229e+16, 2.0000000e+00, 2.8000000e+01, ...,\n",
       "         5.0000000e-01, 9.4110001e+01, 3.9000001e+00]],\n",
       "\n",
       "       [[2.0190229e+16, 2.0000000e+00, 2.8000000e+01, ...,\n",
       "         8.9999998e-01, 1.2311000e+02, 2.0999999e+00],\n",
       "        [2.0190229e+16, 2.0000000e+00, 2.8000000e+01, ...,\n",
       "         6.0000002e-01, 1.0338000e+02, 1.0970000e+02],\n",
       "        [2.0190229e+16, 2.0000000e+00, 2.8000000e+01, ...,\n",
       "         6.0000002e-01, 9.3889999e+01, 1.8000000e+01],\n",
       "        ...,\n",
       "        [2.0190229e+16, 2.0000000e+00, 2.8000000e+01, ...,\n",
       "         6.0000002e-01, 8.8730003e+01, 1.5200000e+01],\n",
       "        [2.0190229e+16, 2.0000000e+00, 2.8000000e+01, ...,\n",
       "         5.0000000e-01, 9.4110001e+01, 3.9000001e+00],\n",
       "        [2.0190229e+16, 2.0000000e+00, 2.8000000e+01, ...,\n",
       "         4.0000001e-01, 8.9870003e+01, 3.8900002e+01]]], dtype=float32)"
      ]
     },
     "execution_count": 14,
     "metadata": {},
     "output_type": "execute_result"
    }
   ],
   "source": [
    "x_test = np.concatenate((test_arr[0], test_arr[1], test_arr[2], test_arr[3], test_arr[4], test_arr[5], test_arr[6], test_arr[7], test_arr[8]), axis=1).reshape(-1, 9, 9)\n",
    "print(x_test.shape)\n",
    "x_test"
   ]
  },
  {
   "cell_type": "code",
   "execution_count": 15,
   "metadata": {},
   "outputs": [
    {
     "name": "stdout",
     "output_type": "stream",
     "text": [
      "(22778, 1)\n"
     ]
    },
    {
     "data": {
      "text/plain": [
       "array([[104.29],\n",
       "       [ 92.23],\n",
       "       [ 85.97],\n",
       "       ...,\n",
       "       [ 89.87],\n",
       "       [114.23],\n",
       "       [114.66]])"
      ]
     },
     "execution_count": 15,
     "metadata": {},
     "output_type": "execute_result"
    }
   ],
   "source": [
    "y_test = test[lag:, 7:8]\n",
    "print(y_test.shape)\n",
    "y_test"
   ]
  },
  {
   "cell_type": "code",
   "execution_count": 16,
   "metadata": {},
   "outputs": [],
   "source": [
    "h_units = 32\n",
    "activation_ = 'softmax'\n",
    "\n",
    "def rnn_model():\n",
    "    model = Sequential()\n",
    "    \n",
    "    model.add(LSTM(units=h_units, return_sequences=False, input_shape=(9, 9)))   \n",
    "    #model.add(LSTM(units=h_units, return_sequences=False))\n",
    "    model.add(Dense(64))\n",
    "    \n",
    "    model.add(Dense(1))\n",
    "    \n",
    "    return model"
   ]
  },
  {
   "cell_type": "code",
   "execution_count": 17,
   "metadata": {},
   "outputs": [
    {
     "name": "stdout",
     "output_type": "stream",
     "text": [
      "WARNING:tensorflow:From C:\\Users\\YooSeok\\Anaconda3\\envs\\Keras\\lib\\site-packages\\tensorflow\\python\\framework\\op_def_library.py:263: colocate_with (from tensorflow.python.framework.ops) is deprecated and will be removed in a future version.\n",
      "Instructions for updating:\n",
      "Colocations handled automatically by placer.\n",
      "_________________________________________________________________\n",
      "Layer (type)                 Output Shape              Param #   \n",
      "=================================================================\n",
      "lstm_1 (LSTM)                (None, 32)                5376      \n",
      "_________________________________________________________________\n",
      "dense_1 (Dense)              (None, 64)                2112      \n",
      "_________________________________________________________________\n",
      "dense_2 (Dense)              (None, 1)                 65        \n",
      "=================================================================\n",
      "Total params: 7,553\n",
      "Trainable params: 7,553\n",
      "Non-trainable params: 0\n",
      "_________________________________________________________________\n"
     ]
    }
   ],
   "source": [
    "# create a model \n",
    "model = rnn_model()\n",
    "model.summary()"
   ]
  },
  {
   "cell_type": "code",
   "execution_count": 18,
   "metadata": {},
   "outputs": [],
   "source": [
    "model.compile(loss='MSE', optimizer='adam', metrics=['accuracy'])"
   ]
  },
  {
   "cell_type": "code",
   "execution_count": 19,
   "metadata": {},
   "outputs": [
    {
     "name": "stdout",
     "output_type": "stream",
     "text": [
      "WARNING:tensorflow:From C:\\Users\\YooSeok\\Anaconda3\\envs\\Keras\\lib\\site-packages\\tensorflow\\python\\ops\\math_ops.py:3066: to_int32 (from tensorflow.python.ops.math_ops) is deprecated and will be removed in a future version.\n",
      "Instructions for updating:\n",
      "Use tf.cast instead.\n",
      "Train on 559992 samples, validate on 139998 samples\n",
      "Epoch 1/10\n",
      "413696/559992 [=====================>........] - ETA: 1s - loss: nan - acc: 2.4172e-06"
     ]
    },
    {
     "ename": "KeyboardInterrupt",
     "evalue": "",
     "output_type": "error",
     "traceback": [
      "\u001b[1;31m---------------------------------------------------------------------------\u001b[0m",
      "\u001b[1;31mKeyboardInterrupt\u001b[0m                         Traceback (most recent call last)",
      "\u001b[1;32m<ipython-input-19-e251cf3ef4bf>\u001b[0m in \u001b[0;36m<module>\u001b[1;34m\u001b[0m\n\u001b[0;32m      8\u001b[0m                  \u001b[0mepochs\u001b[0m\u001b[1;33m=\u001b[0m\u001b[1;36m10\u001b[0m\u001b[1;33m,\u001b[0m\u001b[1;33m\u001b[0m\u001b[1;33m\u001b[0m\u001b[0m\n\u001b[0;32m      9\u001b[0m                  \u001b[0mverbose\u001b[0m\u001b[1;33m=\u001b[0m\u001b[1;36m1\u001b[0m\u001b[1;33m,\u001b[0m\u001b[1;33m\u001b[0m\u001b[1;33m\u001b[0m\u001b[0m\n\u001b[1;32m---> 10\u001b[1;33m                  validation_data=(x_val, y_val))\n\u001b[0m\u001b[0;32m     11\u001b[0m \u001b[1;31m#hist = model.fit(x_train, y_train, epochs=100, batch_size=2048, verbose=True, validation_data=(x_val, y_val), shuffle=True)\u001b[0m\u001b[1;33m\u001b[0m\u001b[1;33m\u001b[0m\u001b[1;33m\u001b[0m\u001b[0m\n",
      "\u001b[1;32m~\\Anaconda3\\envs\\Keras\\lib\\site-packages\\keras\\engine\\training.py\u001b[0m in \u001b[0;36mfit\u001b[1;34m(self, x, y, batch_size, epochs, verbose, callbacks, validation_split, validation_data, shuffle, class_weight, sample_weight, initial_epoch, steps_per_epoch, validation_steps, **kwargs)\u001b[0m\n\u001b[0;32m   1037\u001b[0m                                         \u001b[0minitial_epoch\u001b[0m\u001b[1;33m=\u001b[0m\u001b[0minitial_epoch\u001b[0m\u001b[1;33m,\u001b[0m\u001b[1;33m\u001b[0m\u001b[1;33m\u001b[0m\u001b[0m\n\u001b[0;32m   1038\u001b[0m                                         \u001b[0msteps_per_epoch\u001b[0m\u001b[1;33m=\u001b[0m\u001b[0msteps_per_epoch\u001b[0m\u001b[1;33m,\u001b[0m\u001b[1;33m\u001b[0m\u001b[1;33m\u001b[0m\u001b[0m\n\u001b[1;32m-> 1039\u001b[1;33m                                         validation_steps=validation_steps)\n\u001b[0m\u001b[0;32m   1040\u001b[0m \u001b[1;33m\u001b[0m\u001b[0m\n\u001b[0;32m   1041\u001b[0m     def evaluate(self, x=None, y=None,\n",
      "\u001b[1;32m~\\Anaconda3\\envs\\Keras\\lib\\site-packages\\keras\\engine\\training_arrays.py\u001b[0m in \u001b[0;36mfit_loop\u001b[1;34m(model, f, ins, out_labels, batch_size, epochs, verbose, callbacks, val_f, val_ins, shuffle, callback_metrics, initial_epoch, steps_per_epoch, validation_steps)\u001b[0m\n\u001b[0;32m    197\u001b[0m                     \u001b[0mins_batch\u001b[0m\u001b[1;33m[\u001b[0m\u001b[0mi\u001b[0m\u001b[1;33m]\u001b[0m \u001b[1;33m=\u001b[0m \u001b[0mins_batch\u001b[0m\u001b[1;33m[\u001b[0m\u001b[0mi\u001b[0m\u001b[1;33m]\u001b[0m\u001b[1;33m.\u001b[0m\u001b[0mtoarray\u001b[0m\u001b[1;33m(\u001b[0m\u001b[1;33m)\u001b[0m\u001b[1;33m\u001b[0m\u001b[1;33m\u001b[0m\u001b[0m\n\u001b[0;32m    198\u001b[0m \u001b[1;33m\u001b[0m\u001b[0m\n\u001b[1;32m--> 199\u001b[1;33m                 \u001b[0mouts\u001b[0m \u001b[1;33m=\u001b[0m \u001b[0mf\u001b[0m\u001b[1;33m(\u001b[0m\u001b[0mins_batch\u001b[0m\u001b[1;33m)\u001b[0m\u001b[1;33m\u001b[0m\u001b[1;33m\u001b[0m\u001b[0m\n\u001b[0m\u001b[0;32m    200\u001b[0m                 \u001b[0mouts\u001b[0m \u001b[1;33m=\u001b[0m \u001b[0mto_list\u001b[0m\u001b[1;33m(\u001b[0m\u001b[0mouts\u001b[0m\u001b[1;33m)\u001b[0m\u001b[1;33m\u001b[0m\u001b[1;33m\u001b[0m\u001b[0m\n\u001b[0;32m    201\u001b[0m                 \u001b[1;32mfor\u001b[0m \u001b[0ml\u001b[0m\u001b[1;33m,\u001b[0m \u001b[0mo\u001b[0m \u001b[1;32min\u001b[0m \u001b[0mzip\u001b[0m\u001b[1;33m(\u001b[0m\u001b[0mout_labels\u001b[0m\u001b[1;33m,\u001b[0m \u001b[0mouts\u001b[0m\u001b[1;33m)\u001b[0m\u001b[1;33m:\u001b[0m\u001b[1;33m\u001b[0m\u001b[1;33m\u001b[0m\u001b[0m\n",
      "\u001b[1;32m~\\Anaconda3\\envs\\Keras\\lib\\site-packages\\keras\\backend\\tensorflow_backend.py\u001b[0m in \u001b[0;36m__call__\u001b[1;34m(self, inputs)\u001b[0m\n\u001b[0;32m   2713\u001b[0m                 \u001b[1;32mreturn\u001b[0m \u001b[0mself\u001b[0m\u001b[1;33m.\u001b[0m\u001b[0m_legacy_call\u001b[0m\u001b[1;33m(\u001b[0m\u001b[0minputs\u001b[0m\u001b[1;33m)\u001b[0m\u001b[1;33m\u001b[0m\u001b[1;33m\u001b[0m\u001b[0m\n\u001b[0;32m   2714\u001b[0m \u001b[1;33m\u001b[0m\u001b[0m\n\u001b[1;32m-> 2715\u001b[1;33m             \u001b[1;32mreturn\u001b[0m \u001b[0mself\u001b[0m\u001b[1;33m.\u001b[0m\u001b[0m_call\u001b[0m\u001b[1;33m(\u001b[0m\u001b[0minputs\u001b[0m\u001b[1;33m)\u001b[0m\u001b[1;33m\u001b[0m\u001b[1;33m\u001b[0m\u001b[0m\n\u001b[0m\u001b[0;32m   2716\u001b[0m         \u001b[1;32melse\u001b[0m\u001b[1;33m:\u001b[0m\u001b[1;33m\u001b[0m\u001b[1;33m\u001b[0m\u001b[0m\n\u001b[0;32m   2717\u001b[0m             \u001b[1;32mif\u001b[0m \u001b[0mpy_any\u001b[0m\u001b[1;33m(\u001b[0m\u001b[0mis_tensor\u001b[0m\u001b[1;33m(\u001b[0m\u001b[0mx\u001b[0m\u001b[1;33m)\u001b[0m \u001b[1;32mfor\u001b[0m \u001b[0mx\u001b[0m \u001b[1;32min\u001b[0m \u001b[0minputs\u001b[0m\u001b[1;33m)\u001b[0m\u001b[1;33m:\u001b[0m\u001b[1;33m\u001b[0m\u001b[1;33m\u001b[0m\u001b[0m\n",
      "\u001b[1;32m~\\Anaconda3\\envs\\Keras\\lib\\site-packages\\keras\\backend\\tensorflow_backend.py\u001b[0m in \u001b[0;36m_call\u001b[1;34m(self, inputs)\u001b[0m\n\u001b[0;32m   2673\u001b[0m             \u001b[0mfetched\u001b[0m \u001b[1;33m=\u001b[0m \u001b[0mself\u001b[0m\u001b[1;33m.\u001b[0m\u001b[0m_callable_fn\u001b[0m\u001b[1;33m(\u001b[0m\u001b[1;33m*\u001b[0m\u001b[0marray_vals\u001b[0m\u001b[1;33m,\u001b[0m \u001b[0mrun_metadata\u001b[0m\u001b[1;33m=\u001b[0m\u001b[0mself\u001b[0m\u001b[1;33m.\u001b[0m\u001b[0mrun_metadata\u001b[0m\u001b[1;33m)\u001b[0m\u001b[1;33m\u001b[0m\u001b[1;33m\u001b[0m\u001b[0m\n\u001b[0;32m   2674\u001b[0m         \u001b[1;32melse\u001b[0m\u001b[1;33m:\u001b[0m\u001b[1;33m\u001b[0m\u001b[1;33m\u001b[0m\u001b[0m\n\u001b[1;32m-> 2675\u001b[1;33m             \u001b[0mfetched\u001b[0m \u001b[1;33m=\u001b[0m \u001b[0mself\u001b[0m\u001b[1;33m.\u001b[0m\u001b[0m_callable_fn\u001b[0m\u001b[1;33m(\u001b[0m\u001b[1;33m*\u001b[0m\u001b[0marray_vals\u001b[0m\u001b[1;33m)\u001b[0m\u001b[1;33m\u001b[0m\u001b[1;33m\u001b[0m\u001b[0m\n\u001b[0m\u001b[0;32m   2676\u001b[0m         \u001b[1;32mreturn\u001b[0m \u001b[0mfetched\u001b[0m\u001b[1;33m[\u001b[0m\u001b[1;33m:\u001b[0m\u001b[0mlen\u001b[0m\u001b[1;33m(\u001b[0m\u001b[0mself\u001b[0m\u001b[1;33m.\u001b[0m\u001b[0moutputs\u001b[0m\u001b[1;33m)\u001b[0m\u001b[1;33m]\u001b[0m\u001b[1;33m\u001b[0m\u001b[1;33m\u001b[0m\u001b[0m\n\u001b[0;32m   2677\u001b[0m \u001b[1;33m\u001b[0m\u001b[0m\n",
      "\u001b[1;32m~\\Anaconda3\\envs\\Keras\\lib\\site-packages\\tensorflow\\python\\client\\session.py\u001b[0m in \u001b[0;36m__call__\u001b[1;34m(self, *args, **kwargs)\u001b[0m\n\u001b[0;32m   1437\u001b[0m           ret = tf_session.TF_SessionRunCallable(\n\u001b[0;32m   1438\u001b[0m               \u001b[0mself\u001b[0m\u001b[1;33m.\u001b[0m\u001b[0m_session\u001b[0m\u001b[1;33m.\u001b[0m\u001b[0m_session\u001b[0m\u001b[1;33m,\u001b[0m \u001b[0mself\u001b[0m\u001b[1;33m.\u001b[0m\u001b[0m_handle\u001b[0m\u001b[1;33m,\u001b[0m \u001b[0margs\u001b[0m\u001b[1;33m,\u001b[0m \u001b[0mstatus\u001b[0m\u001b[1;33m,\u001b[0m\u001b[1;33m\u001b[0m\u001b[1;33m\u001b[0m\u001b[0m\n\u001b[1;32m-> 1439\u001b[1;33m               run_metadata_ptr)\n\u001b[0m\u001b[0;32m   1440\u001b[0m         \u001b[1;32mif\u001b[0m \u001b[0mrun_metadata\u001b[0m\u001b[1;33m:\u001b[0m\u001b[1;33m\u001b[0m\u001b[1;33m\u001b[0m\u001b[0m\n\u001b[0;32m   1441\u001b[0m           \u001b[0mproto_data\u001b[0m \u001b[1;33m=\u001b[0m \u001b[0mtf_session\u001b[0m\u001b[1;33m.\u001b[0m\u001b[0mTF_GetBuffer\u001b[0m\u001b[1;33m(\u001b[0m\u001b[0mrun_metadata_ptr\u001b[0m\u001b[1;33m)\u001b[0m\u001b[1;33m\u001b[0m\u001b[1;33m\u001b[0m\u001b[0m\n",
      "\u001b[1;31mKeyboardInterrupt\u001b[0m: "
     ]
    }
   ],
   "source": [
    "# training\n",
    "tensorBoard = TensorBoard(log_dir='./logs', histogram_freq=0, write_graph=True, write_images=False)\n",
    "\n",
    "#hist = model.fit(x_train, y_train, epochs=100, batch_size=2048, verbose=True, validation_data=(x_val, y_val), shuffle=True, callbacks=[tensorBoard])\n",
    "\n",
    "hist = model.fit(x_train, y_train,\n",
    "                 batch_size=2048,\n",
    "                 epochs=10,\n",
    "                 verbose=1, \n",
    "                 validation_data=(x_val, y_val))\n",
    "#hist = model.fit(x_train, y_train, epochs=100, batch_size=2048, verbose=True, validation_data=(x_val, y_val), shuffle=True)"
   ]
  },
  {
   "cell_type": "code",
   "execution_count": 112,
   "metadata": {},
   "outputs": [
    {
     "name": "stdout",
     "output_type": "stream",
     "text": [
      "22778/22778 [==============================] - 1s 27us/step\n",
      "(22778, 1)\n",
      "22778/22778 [==============================] - 0s 18us/step\n",
      "[117.4609476434974, 0.0003951180964088155]\n"
     ]
    }
   ],
   "source": [
    "y_pred = model.predict(x_test, batch_size=1024, verbose=True) \n",
    "print(y_pred.shape)\n",
    "print(model.evaluate(x_test, y_test,batch_size=1024))"
   ]
  },
  {
   "cell_type": "code",
   "execution_count": 113,
   "metadata": {},
   "outputs": [
    {
     "data": {
      "text/plain": [
       "array([[95.12637],\n",
       "       [95.12637],\n",
       "       [95.12637],\n",
       "       ...,\n",
       "       [95.12637],\n",
       "       [95.12637],\n",
       "       [95.12637]], dtype=float32)"
      ]
     },
     "execution_count": 113,
     "metadata": {},
     "output_type": "execute_result"
    }
   ],
   "source": [
    "y_pred"
   ]
  },
  {
   "cell_type": "code",
   "execution_count": 114,
   "metadata": {},
   "outputs": [
    {
     "data": {
      "image/png": "[encoded data removed]",
      "text/plain": [
       "<Figure size 1368x576 with 1 Axes>"
      ]
     },
     "metadata": {
      "needs_background": "light"
     },
     "output_type": "display_data"
    }
   ],
   "source": [
    "plt.figure(figsize=(19,8))\n",
    "\n",
    "# set font\n",
    "font = {'family': 'Arial', 'weight': 'normal', 'size': 16}\n",
    "plt.rc('font', **font)\n",
    "\n",
    "# plot data \n",
    "plt.plot(y_test[:,], 'r', label='y_true')\n",
    "plt.plot(y_pred[:,], 'b', label='y_pred')\n",
    "\n",
    "# set legend position\n",
    "plt.legend(shadow=True, loc='upper right')\n",
    "\n",
    "# set x-axis & y-axis titles\n",
    "#plt.title('prediction result')\n",
    "plt.xlabel('Time Index (2007)')\n",
    "plt.ylabel('Traffic Volume')\n",
    "\n",
    "# set axis-limits\n",
    "plt.xlim(left = 0, right = len(y_test)) \n",
    "plt.ylim(bottom = 0.3) \n",
    "\n",
    "# set grid\n",
    "plt.grid(color='gray', linestyle='--', linewidth=1)\n",
    "\n",
    "plt.xticks(np.arange(0,105082,10000))\n",
    "plt.yticks(np.arange(0.3,1.0,0.1))\n",
    "\n",
    "# save & display figure\n",
    "plt.show()\n"
   ]
  },
  {
   "cell_type": "code",
   "execution_count": null,
   "metadata": {},
   "outputs": [],
   "source": []
  }
 ],
 "metadata": {
  "kernelspec": {
   "display_name": "Python 3",
   "language": "python",
   "name": "python3"
  },
  "language_info": {
   "codemirror_mode": {
    "name": "ipython",
    "version": 3
   },
   "file_extension": ".py",
   "mimetype": "text/x-python",
   "name": "python",
   "nbconvert_exporter": "python",
   "pygments_lexer": "ipython3",
   "version": "3.7.3"
  }
 },
 "nbformat": 4,
 "nbformat_minor": 4
}
